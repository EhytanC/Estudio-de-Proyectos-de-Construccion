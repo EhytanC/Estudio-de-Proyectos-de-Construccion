{
 "cells": [
  {
   "cell_type": "markdown",
   "metadata": {},
   "source": [
    "Importación de librerías"
   ]
  },
  {
   "cell_type": "code",
   "execution_count": 22,
   "metadata": {},
   "outputs": [],
   "source": [
    "import pandas as pd\n",
    "from Dataframes import contratos_df, pagos_df\n",
    "import os"
   ]
  },
  {
   "cell_type": "markdown",
   "metadata": {},
   "source": [
    "Carga de datos"
   ]
  },
  {
   "cell_type": "code",
   "execution_count": 23,
   "metadata": {},
   "outputs": [],
   "source": [
    "data_dir = './data/'\n",
    "\n",
    "proyectos_df = pd.read_csv(os.path.join(data_dir, 'proyectos.csv'))\n",
    "# contratos_df = pd.read_csv(os.path.join(data_dir, 'contratos.csv'))\n",
    "# pagos_df = pd.read_csv(os.path.join(data_dir, 'pagos.csv'))\n",
    "ofertas_df = pd.read_csv(os.path.join(data_dir, 'ofertas.csv'))"
   ]
  },
  {
   "cell_type": "markdown",
   "metadata": {},
   "source": [
    "Porcentaje de atraso de las obras públicas"
   ]
  },
  {
   "cell_type": "code",
   "execution_count": 24,
   "metadata": {},
   "outputs": [
    {
     "name": "stdout",
     "output_type": "stream",
     "text": [
      "Porcentaje de obras con atraso: 46.34%\n"
     ]
    }
   ],
   "source": [
    "contratos_df['ATRASO'] = (\n",
    "    pd.to_datetime(contratos_df['FECHATERMINO']) - \n",
    "    pd.to_datetime(contratos_df['FECHATERMINOORIGINAL'])\n",
    ").dt.days\n",
    "\n",
    "obras_con_atraso = contratos_df[contratos_df['ATRASO'] > 0].shape[0]\n",
    "total_obras = contratos_df.shape[0]\n",
    "porcentaje_atraso = (obras_con_atraso / total_obras) * 100\n",
    "\n",
    "print(f\"Porcentaje de obras con atraso: {porcentaje_atraso:.2f}%\")"
   ]
  },
  {
   "cell_type": "markdown",
   "metadata": {},
   "source": [
    "Tipo de obra que tarda más en realizarse"
   ]
  },
  {
   "cell_type": "code",
   "execution_count": 25,
   "metadata": {},
   "outputs": [
    {
     "name": "stdout",
     "output_type": "stream",
     "text": [
      "Tipo de obra que tarda más en realizarse: VIALIDAD\n"
     ]
    }
   ],
   "source": [
    "contratos_df['DURACION'] = (\n",
    "    pd.to_datetime(contratos_df['FECHATERMINO']) - \n",
    "    pd.to_datetime(contratos_df['FECHAINICIO'])\n",
    ").dt.days\n",
    "\n",
    "tipo_obra_mas_lenta = contratos_df.groupby('SERVICIO', observed=False)['DURACION'].mean().idxmax()\n",
    "\n",
    "print(f\"Tipo de obra que tarda más en realizarse: {tipo_obra_mas_lenta}\")"
   ]
  },
  {
   "cell_type": "markdown",
   "metadata": {},
   "source": [
    "Tipo de obra más cara"
   ]
  },
  {
   "cell_type": "code",
   "execution_count": 29,
   "metadata": {},
   "outputs": [
    {
     "name": "stdout",
     "output_type": "stream",
     "text": [
      "Tipo de obra más cara: VIALIDAD\n"
     ]
    }
   ],
   "source": [
    "tipo_obra_mas_cara = contratos_df.groupby('SERVICIO', observed=False)['MONTOVIGENTE'].mean().idxmax()\n",
    "\n",
    "print(f\"Tipo de obra más cara: {tipo_obra_mas_cara}\")"
   ]
  },
  {
   "cell_type": "markdown",
   "metadata": {},
   "source": [
    "Variación del presupuesto por año"
   ]
  },
  {
   "cell_type": "code",
   "execution_count": 27,
   "metadata": {},
   "outputs": [
    {
     "name": "stderr",
     "output_type": "stream",
     "text": [
      "C:\\Users\\IMC\\AppData\\Local\\Temp\\ipykernel_6124\\2816817020.py:42: FutureWarning: Setting an item of incompatible dtype is deprecated and will raise an error in a future version of pandas. Value '266.086.711.295' has dtype incompatible with int64, please explicitly cast to a compatible dtype first.\n",
      "  presupuesto.loc[x, 'Presupuesto'] = poner_puntos(round(presupuesto.loc[x, 'Presupuesto'] * inflacion_acumulada[int(presupuesto.loc[x, 'Año'])]))\n"
     ]
    },
    {
     "data": {
      "text/html": [
       "<div>\n",
       "<style scoped>\n",
       "    .dataframe tbody tr th:only-of-type {\n",
       "        vertical-align: middle;\n",
       "    }\n",
       "\n",
       "    .dataframe tbody tr th {\n",
       "        vertical-align: top;\n",
       "    }\n",
       "\n",
       "    .dataframe thead th {\n",
       "        text-align: right;\n",
       "    }\n",
       "</style>\n",
       "<table border=\"1\" class=\"dataframe\">\n",
       "  <thead>\n",
       "    <tr style=\"text-align: right;\">\n",
       "      <th></th>\n",
       "      <th>Año</th>\n",
       "      <th>Presupuesto</th>\n",
       "    </tr>\n",
       "  </thead>\n",
       "  <tbody>\n",
       "    <tr>\n",
       "      <th>0</th>\n",
       "      <td>2010</td>\n",
       "      <td>266.086.711.295</td>\n",
       "    </tr>\n",
       "    <tr>\n",
       "      <th>1</th>\n",
       "      <td>2011</td>\n",
       "      <td>666.881.355.330</td>\n",
       "    </tr>\n",
       "    <tr>\n",
       "      <th>2</th>\n",
       "      <td>2012</td>\n",
       "      <td>926.679.538.895</td>\n",
       "    </tr>\n",
       "    <tr>\n",
       "      <th>3</th>\n",
       "      <td>2013</td>\n",
       "      <td>1.119.624.563.279</td>\n",
       "    </tr>\n",
       "    <tr>\n",
       "      <th>4</th>\n",
       "      <td>2014</td>\n",
       "      <td>1.094.851.143.784</td>\n",
       "    </tr>\n",
       "    <tr>\n",
       "      <th>5</th>\n",
       "      <td>2015</td>\n",
       "      <td>1.274.747.523.418</td>\n",
       "    </tr>\n",
       "    <tr>\n",
       "      <th>6</th>\n",
       "      <td>2016</td>\n",
       "      <td>1.240.929.239.332</td>\n",
       "    </tr>\n",
       "    <tr>\n",
       "      <th>7</th>\n",
       "      <td>2017</td>\n",
       "      <td>1.300.141.038.243</td>\n",
       "    </tr>\n",
       "    <tr>\n",
       "      <th>8</th>\n",
       "      <td>2018</td>\n",
       "      <td>1.221.112.915.340</td>\n",
       "    </tr>\n",
       "    <tr>\n",
       "      <th>9</th>\n",
       "      <td>2019</td>\n",
       "      <td>1.433.943.441.655</td>\n",
       "    </tr>\n",
       "    <tr>\n",
       "      <th>10</th>\n",
       "      <td>2020</td>\n",
       "      <td>1.322.255.963.609</td>\n",
       "    </tr>\n",
       "    <tr>\n",
       "      <th>11</th>\n",
       "      <td>2021</td>\n",
       "      <td>1.864.094.727.278</td>\n",
       "    </tr>\n",
       "    <tr>\n",
       "      <th>12</th>\n",
       "      <td>2022</td>\n",
       "      <td>1.849.155.955.264</td>\n",
       "    </tr>\n",
       "    <tr>\n",
       "      <th>13</th>\n",
       "      <td>2023</td>\n",
       "      <td>1.832.500.503.599</td>\n",
       "    </tr>\n",
       "  </tbody>\n",
       "</table>\n",
       "</div>"
      ],
      "text/plain": [
       "     Año        Presupuesto\n",
       "0   2010    266.086.711.295\n",
       "1   2011    666.881.355.330\n",
       "2   2012    926.679.538.895\n",
       "3   2013  1.119.624.563.279\n",
       "4   2014  1.094.851.143.784\n",
       "5   2015  1.274.747.523.418\n",
       "6   2016  1.240.929.239.332\n",
       "7   2017  1.300.141.038.243\n",
       "8   2018  1.221.112.915.340\n",
       "9   2019  1.433.943.441.655\n",
       "10  2020  1.322.255.963.609\n",
       "11  2021  1.864.094.727.278\n",
       "12  2022  1.849.155.955.264\n",
       "13  2023  1.832.500.503.599"
      ]
     },
     "execution_count": 27,
     "metadata": {},
     "output_type": "execute_result"
    }
   ],
   "source": [
    "pagos_df['FECHAPAGO'] = pd.to_datetime(pagos_df['FECHAPAGO'])\n",
    "pagos_df['ANIO'] = pagos_df['FECHAPAGO'].dt.year\n",
    "\n",
    "presupuesto_anual = pagos_df.groupby('ANIO')['TOTALPAGADO'].sum()\n",
    "\n",
    "#Convertimos esto a un dataframe\n",
    "\n",
    "presupuesto = {}\n",
    "\n",
    "presupuesto['Año'] = presupuesto_anual.index\n",
    "presupuesto['Presupuesto'] = presupuesto_anual.values\n",
    "\n",
    "presupuesto = pd.DataFrame(presupuesto)\n",
    "\n",
    "#Datos de la inflación son sacados de https://www.datosmundial.com/america/chile/inflacion.php\n",
    "\n",
    "inflacion_acumulada = {\n",
    "    2023: 1.00,  # El año base\n",
    "    2022: 1.0758,  # 1 + 7.58% de inflación\n",
    "    2021: 1.1252,  # 1 + 12.52% acumulado hasta 2021\n",
    "    2020: 1.1552,  # 1 + 15.52% acumulado hasta 2020\n",
    "    2019: 1.1810,  # 1 + 18.10% acumulado hasta 2019\n",
    "    2018: 1.1940,  # 1 + 19.40% acumulado hasta 2018\n",
    "    2017: 1.2196,  # 1 + 21.96% acumulado hasta 2017\n",
    "    2016: 1.1844,  # 1 + 18.44% acumulado hasta 2016\n",
    "    2015: 1.1456,  # 1 + 14.56% acumulado hasta 2015\n",
    "    2014: 1.1148,  # 1 + 11.48% acumulado hasta 2014\n",
    "    2013: 1.1929,  # 1 + 19.29% acumulado hasta 2013\n",
    "    2012: 1.1636,  # 1 + 16.36% acumulado hasta 2012\n",
    "    2011: 1.1482,  # 1 + 14.82% acumulado hasta 2011\n",
    "    2010: 1.0706   # 1 + 7.06% acumulado hasta 2010\n",
    "}\n",
    "\n",
    "#aquí básicamente convierto todos los presupuestos de años anteriores a lo que valdría ese presupuesto hoy \n",
    "\n",
    "presupuesto= presupuesto.drop(14)\n",
    "\n",
    "def poner_puntos(numero): # le doy los puntitos bonitos\n",
    "    return \"{:,}\".format(numero).replace(\",\", \".\")\n",
    "\n",
    "for x in range(len(presupuesto)):\n",
    "    presupuesto.loc[x, 'Presupuesto'] = poner_puntos(round(presupuesto.loc[x, 'Presupuesto'] * inflacion_acumulada[int(presupuesto.loc[x, 'Año'])]))\n",
    "\n",
    "presupuesto"
   ]
  },
  {
   "cell_type": "markdown",
   "metadata": {},
   "source": [
    "Empresa más contratada"
   ]
  },
  {
   "cell_type": "code",
   "execution_count": 28,
   "metadata": {},
   "outputs": [
    {
     "name": "stdout",
     "output_type": "stream",
     "text": [
      "Empresa más contratada: CONST. DE PAVIMENTOS ASFALTICOS BITUMIX S.A.\n"
     ]
    }
   ],
   "source": [
    "empresa_mas_contratada = pagos_df['NOMBREADJUDICADO'].value_counts().idxmax()\n",
    "\n",
    "print(f\"Empresa más contratada: {empresa_mas_contratada}\")"
   ]
  },
  {
   "cell_type": "markdown",
   "metadata": {},
   "source": [
    "Promedio de atraso de las obras publicas"
   ]
  },
  {
   "cell_type": "code",
   "execution_count": 41,
   "metadata": {},
   "outputs": [
    {
     "name": "stdout",
     "output_type": "stream",
     "text": [
      "El promedio de atraso de las obras publicas es de 102.77 diasa\n"
     ]
    }
   ],
   "source": [
    "promedio_atraso = contratos_df[contratos_df.ATRASO > 0]['ATRASO'].mean()\n",
    "print(f'El promedio de atraso de las obras publicas es de {round(promedio_atraso, 2)} diasa')"
   ]
  },
  {
   "cell_type": "code",
   "execution_count": null,
   "metadata": {},
   "outputs": [],
   "source": []
  }
 ],
 "metadata": {
  "kernelspec": {
   "display_name": "icd",
   "language": "python",
   "name": "python3"
  },
  "language_info": {
   "codemirror_mode": {
    "name": "ipython",
    "version": 3
   },
   "file_extension": ".py",
   "mimetype": "text/x-python",
   "name": "python",
   "nbconvert_exporter": "python",
   "pygments_lexer": "ipython3",
   "version": "3.12.4"
  }
 },
 "nbformat": 4,
 "nbformat_minor": 2
}
