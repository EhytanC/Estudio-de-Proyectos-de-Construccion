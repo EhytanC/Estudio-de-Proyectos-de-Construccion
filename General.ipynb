{
 "cells": [
  {
   "cell_type": "markdown",
   "metadata": {},
   "source": [
    "Importación de librerías"
   ]
  },
  {
   "cell_type": "code",
   "execution_count": 1,
   "metadata": {},
   "outputs": [],
   "source": [
    "import pandas as pd\n",
    "import os"
   ]
  },
  {
   "cell_type": "markdown",
   "metadata": {},
   "source": [
    "Carga de datos"
   ]
  },
  {
   "cell_type": "code",
   "execution_count": 2,
   "metadata": {},
   "outputs": [
    {
     "name": "stderr",
     "output_type": "stream",
     "text": [
      "C:\\Users\\crist\\AppData\\Local\\Temp\\ipykernel_13552\\3524796897.py:5: DtypeWarning: Columns (9,10) have mixed types. Specify dtype option on import or set low_memory=False.\n",
      "  pagos_df = pd.read_csv(os.path.join(data_dir, 'pagos.csv'))\n"
     ]
    }
   ],
   "source": [
    "data_dir = './data/'\n",
    "\n",
    "proyectos_df = pd.read_csv(os.path.join(data_dir, 'proyectos.csv'))\n",
    "contratos_df = pd.read_csv(os.path.join(data_dir, 'contratos.csv'))\n",
    "pagos_df = pd.read_csv(os.path.join(data_dir, 'pagos.csv'))\n",
    "ofertas_df = pd.read_csv(os.path.join(data_dir, 'ofertas.csv'))"
   ]
  },
  {
   "cell_type": "markdown",
   "metadata": {},
   "source": [
    "Porcentaje de atraso de las obras públicas"
   ]
  },
  {
   "cell_type": "code",
   "execution_count": 3,
   "metadata": {},
   "outputs": [
    {
     "name": "stderr",
     "output_type": "stream",
     "text": [
      "C:\\Users\\crist\\AppData\\Local\\Temp\\ipykernel_13552\\1990292342.py:2: UserWarning: Could not infer format, so each element will be parsed individually, falling back to `dateutil`. To ensure parsing is consistent and as-expected, please specify a format.\n",
      "  pd.to_datetime(contratos_df['FECHATERMINO']) -\n",
      "C:\\Users\\crist\\AppData\\Local\\Temp\\ipykernel_13552\\1990292342.py:3: UserWarning: Could not infer format, so each element will be parsed individually, falling back to `dateutil`. To ensure parsing is consistent and as-expected, please specify a format.\n",
      "  pd.to_datetime(contratos_df['FECHATERMINOORIGINAL'])\n"
     ]
    },
    {
     "name": "stdout",
     "output_type": "stream",
     "text": [
      "Porcentaje de obras con atraso: 37.07%\n"
     ]
    }
   ],
   "source": [
    "contratos_df['ATRASO'] = (\n",
    "    pd.to_datetime(contratos_df['FECHATERMINO']) - \n",
    "    pd.to_datetime(contratos_df['FECHATERMINOORIGINAL'])\n",
    ").dt.days\n",
    "\n",
    "obras_con_atraso = contratos_df[contratos_df['ATRASO'] > 0].shape[0]\n",
    "total_obras = contratos_df.shape[0]\n",
    "porcentaje_atraso = (obras_con_atraso / total_obras) * 100\n",
    "\n",
    "print(f\"Porcentaje de obras con atraso: {porcentaje_atraso:.2f}%\")"
   ]
  },
  {
   "cell_type": "markdown",
   "metadata": {},
   "source": [
    "Tipo de obra que tarda más en realizarse"
   ]
  },
  {
   "cell_type": "code",
   "execution_count": 4,
   "metadata": {},
   "outputs": [
    {
     "name": "stderr",
     "output_type": "stream",
     "text": [
      "C:\\Users\\crist\\AppData\\Local\\Temp\\ipykernel_13552\\1180800161.py:2: UserWarning: Could not infer format, so each element will be parsed individually, falling back to `dateutil`. To ensure parsing is consistent and as-expected, please specify a format.\n",
      "  pd.to_datetime(contratos_df['FECHATERMINO']) -\n"
     ]
    },
    {
     "name": "stdout",
     "output_type": "stream",
     "text": [
      "Tipo de obra que tarda más en realizarse: VIALIDAD\n"
     ]
    },
    {
     "name": "stderr",
     "output_type": "stream",
     "text": [
      "C:\\Users\\crist\\AppData\\Local\\Temp\\ipykernel_13552\\1180800161.py:3: UserWarning: Could not infer format, so each element will be parsed individually, falling back to `dateutil`. To ensure parsing is consistent and as-expected, please specify a format.\n",
      "  pd.to_datetime(contratos_df['FECHAINICIO'])\n"
     ]
    }
   ],
   "source": [
    "contratos_df['DURACION'] = (\n",
    "    pd.to_datetime(contratos_df['FECHATERMINO']) - \n",
    "    pd.to_datetime(contratos_df['FECHAINICIO'])\n",
    ").dt.days\n",
    "\n",
    "tipo_obra_mas_lenta = contratos_df.groupby('SERVICIO')['DURACION'].mean().idxmax()\n",
    "\n",
    "print(f\"Tipo de obra que tarda más en realizarse: {tipo_obra_mas_lenta}\")"
   ]
  },
  {
   "cell_type": "markdown",
   "metadata": {},
   "source": [
    "Tipo de obra más cara"
   ]
  },
  {
   "cell_type": "code",
   "execution_count": 5,
   "metadata": {},
   "outputs": [
    {
     "name": "stdout",
     "output_type": "stream",
     "text": [
      "Tipo de obra más cara: VIALIDAD\n"
     ]
    }
   ],
   "source": [
    "tipo_obra_mas_cara = contratos_df.groupby('SERVICIO')['MONTOVIGENTE'].mean().idxmax()\n",
    "\n",
    "print(f\"Tipo de obra más cara: {tipo_obra_mas_cara}\")"
   ]
  },
  {
   "cell_type": "markdown",
   "metadata": {},
   "source": [
    "Variación del presupuesto por año"
   ]
  },
  {
   "cell_type": "code",
   "execution_count": null,
   "metadata": {},
   "outputs": [
    {
     "name": "stdout",
     "output_type": "stream",
     "text": [
      "ANIO\n",
      "2010     248539801322\n",
      "2011     580805918246\n",
      "2012     796390115929\n",
      "2013     938573697107\n",
      "2014     982105439347\n",
      "2015    1112733522537\n",
      "2016    1047728165596\n",
      "2017    1066038896559\n",
      "2018    1022707634288\n",
      "2019    1214177342638\n",
      "2020    1144612156864\n",
      "2021    1656678570279\n",
      "2022    1718865918632\n",
      "2023    1832500503599\n",
      "2024    1014204031655\n",
      "Name: TOTALPAGADO, dtype: int64\n"
     ]
    },
    {
     "name": "stderr",
     "output_type": "stream",
     "text": [
      "C:\\Users\\crist\\AppData\\Local\\Temp\\ipykernel_13552\\3133368497.py:1: UserWarning: Could not infer format, so each element will be parsed individually, falling back to `dateutil`. To ensure parsing is consistent and as-expected, please specify a format.\n",
      "  pagos_df['FECHAPAGO'] = pd.to_datetime(pagos_df['FECHAPAGO'])\n"
     ]
    }
   ],
   "source": [
    "pagos_df['FECHAPAGO'] = pd.to_datetime(pagos_df['FECHAPAGO'])\n",
    "pagos_df['ANIO'] = pagos_df['FECHAPAGO'].dt.year\n",
    "\n",
    "presupuesto_anual = pagos_df.groupby('ANIO')['TOTALPAGADO'].sum()\n",
    "\n",
    "#Convertimos esto a un dataframe\n",
    "\n",
    "presupuesto = {}\n",
    "\n",
    "presupuesto['Año'] = presupuesto_anual.index\n",
    "presupuesto['Presupuesto'] = presupuesto_anual.values\n",
    "\n",
    "presupuesto = pd.DataFrame(presupuesto)\n",
    "\n",
    "#Datos de la inflación son sacados de https://www.datosmundial.com/america/chile/inflacion.php\n",
    "\n",
    "inflacion_acumulada = {\n",
    "    2023: 1.00,  # El año base\n",
    "    2022: 1.0758,  # 1 + 7.58% de inflación\n",
    "    2021: 1.1252,  # 1 + 12.52% acumulado hasta 2021\n",
    "    2020: 1.1552,  # 1 + 15.52% acumulado hasta 2020\n",
    "    2019: 1.1810,  # 1 + 18.10% acumulado hasta 2019\n",
    "    2018: 1.1940,  # 1 + 19.40% acumulado hasta 2018\n",
    "    2017: 1.2196,  # 1 + 21.96% acumulado hasta 2017\n",
    "    2016: 1.1844,  # 1 + 18.44% acumulado hasta 2016\n",
    "    2015: 1.1456,  # 1 + 14.56% acumulado hasta 2015\n",
    "    2014: 1.1148,  # 1 + 11.48% acumulado hasta 2014\n",
    "    2013: 1.1929,  # 1 + 19.29% acumulado hasta 2013\n",
    "    2012: 1.1636,  # 1 + 16.36% acumulado hasta 2012\n",
    "    2011: 1.1482,  # 1 + 14.82% acumulado hasta 2011\n",
    "    2010: 1.0706   # 1 + 7.06% acumulado hasta 2010\n",
    "}\n",
    "\n",
    "#aquí básicamente convierto todos los presupuestos de años anteriores a lo que valdría ese presupuesto hoy \n",
    "\n",
    "presupuesto= presupuesto.drop(14)\n",
    "\n",
    "def poner_puntos(numero): # le doy los puntitos bonitos\n",
    "    return \"{:,}\".format(numero).replace(\",\", \".\")\n",
    "\n",
    "for x in range(len(presupuesto)):\n",
    "    presupuesto.loc[x, 'Presupuesto'] = poner_puntos(round(presupuesto.loc[x, 'Presupuesto'] * inflacion_acumulada[int(presupuesto.loc[x, 'Año'])]))\n",
    "\n",
    "presupuesto"
   ]
  },
  {
   "cell_type": "markdown",
   "metadata": {},
   "source": [
    "Empresa más contratada"
   ]
  },
  {
   "cell_type": "code",
   "execution_count": 7,
   "metadata": {},
   "outputs": [
    {
     "name": "stdout",
     "output_type": "stream",
     "text": [
      "Empresa más contratada: CONST. DE PAVIMENTOS ASFALTICOS BITUMIX S.A.\n"
     ]
    }
   ],
   "source": [
    "empresa_mas_contratada = pagos_df['NOMBREADJUDICADO'].value_counts().idxmax()\n",
    "\n",
    "print(f\"Empresa más contratada: {empresa_mas_contratada}\")"
   ]
  }
 ],
 "metadata": {
  "kernelspec": {
   "display_name": "DataScience",
   "language": "python",
   "name": "python3"
  },
  "language_info": {
   "codemirror_mode": {
    "name": "ipython",
    "version": 3
   },
   "file_extension": ".py",
   "mimetype": "text/x-python",
   "name": "python",
   "nbconvert_exporter": "python",
   "pygments_lexer": "ipython3",
   "version": "3.12.4"
  }
 },
 "nbformat": 4,
 "nbformat_minor": 2
}
