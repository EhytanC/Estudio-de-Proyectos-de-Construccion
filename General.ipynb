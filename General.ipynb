{
 "cells": [
  {
   "cell_type": "markdown",
   "metadata": {},
   "source": [
    "Importación de librerías"
   ]
  },
  {
   "cell_type": "code",
   "execution_count": 3,
   "metadata": {},
   "outputs": [
    {
     "name": "stderr",
     "output_type": "stream",
     "text": [
      "c:\\Econda\\Proyecto-Data-Science\\Dataframes.py:31: DtypeWarning: Columns (9,10) have mixed types. Specify dtype option on import or set low_memory=False.\n",
      "  pagos_df = pd.read_csv(os.path.join('data', 'pagos.csv'))\n"
     ]
    }
   ],
   "source": [
    "import pandas as pd\n",
    "from Dataframes import contratos_df, pagos_df\n",
    "import os"
   ]
  },
  {
   "cell_type": "markdown",
   "metadata": {},
   "source": [
    "Carga de datos"
   ]
  },
  {
   "cell_type": "code",
   "execution_count": 4,
   "metadata": {},
   "outputs": [],
   "source": [
    "data_dir = './data/'\n",
    "\n",
    "proyectos_df = pd.read_csv(os.path.join(data_dir, 'proyectos.csv'))\n",
    "# contratos_df = pd.read_csv(os.path.join(data_dir, 'contratos.csv'))\n",
    "# pagos_df = pd.read_csv(os.path.join(data_dir, 'pagos.csv'))\n",
    "ofertas_df = pd.read_csv(os.path.join(data_dir, 'ofertas.csv'))"
   ]
  },
  {
   "cell_type": "markdown",
   "metadata": {},
   "source": [
    "Porcentaje de atraso de las obras públicas"
   ]
  },
  {
   "cell_type": "code",
   "execution_count": 5,
   "metadata": {},
   "outputs": [
    {
     "name": "stdout",
     "output_type": "stream",
     "text": [
      "Porcentaje de obras con atraso: 46.34%\n"
     ]
    }
   ],
   "source": [
    "contratos_df['ATRASO'] = (\n",
    "    pd.to_datetime(contratos_df['FECHATERMINO']) - \n",
    "    pd.to_datetime(contratos_df['FECHATERMINOORIGINAL'])\n",
    ").dt.days\n",
    "\n",
    "obras_con_atraso = contratos_df[contratos_df['ATRASO'] > 0].shape[0]\n",
    "total_obras = contratos_df.shape[0]\n",
    "porcentaje_atraso = (obras_con_atraso / total_obras) * 100\n",
    "\n",
    "print(f\"Porcentaje de obras con atraso: {porcentaje_atraso:.2f}%\")"
   ]
  },
  {
   "cell_type": "markdown",
   "metadata": {},
   "source": [
    "Tipo de obra que tarda más en realizarse"
   ]
  },
  {
   "cell_type": "code",
   "execution_count": 6,
   "metadata": {},
   "outputs": [
    {
     "name": "stdout",
     "output_type": "stream",
     "text": [
      "Tipo de obra que tarda más en realizarse: VIALIDAD\n"
     ]
    }
   ],
   "source": [
    "contratos_df['DURACION'] = (\n",
    "    pd.to_datetime(contratos_df['FECHATERMINO']) - \n",
    "    pd.to_datetime(contratos_df['FECHAINICIO'])\n",
    ").dt.days\n",
    "\n",
    "tipo_obra_mas_lenta = contratos_df.groupby('SERVICIO', observed=False)['DURACION'].mean().idxmax()\n",
    "\n",
    "print(f\"Tipo de obra que tarda más en realizarse: {tipo_obra_mas_lenta}\")"
   ]
  },
  {
   "cell_type": "markdown",
   "metadata": {},
   "source": [
    "Tipo de obra más cara"
   ]
  },
  {
   "cell_type": "code",
   "execution_count": 7,
   "metadata": {},
   "outputs": [
    {
     "name": "stdout",
     "output_type": "stream",
     "text": [
      "Tipo de obra más cara: VIALIDAD\n"
     ]
    }
   ],
   "source": [
    "tipo_obra_mas_cara = contratos_df.groupby('SERVICIO', observed=False)['MONTOVIGENTE'].mean().idxmax()\n",
    "\n",
    "print(f\"Tipo de obra más cara: {tipo_obra_mas_cara}\")"
   ]
  },
  {
   "cell_type": "markdown",
   "metadata": {},
   "source": [
    "Variación del presupuesto por año"
   ]
  },
  {
   "cell_type": "code",
   "execution_count": 8,
   "metadata": {},
   "outputs": [
    {
     "data": {
      "text/html": [
       "<div>\n",
       "<style scoped>\n",
       "    .dataframe tbody tr th:only-of-type {\n",
       "        vertical-align: middle;\n",
       "    }\n",
       "\n",
       "    .dataframe tbody tr th {\n",
       "        vertical-align: top;\n",
       "    }\n",
       "\n",
       "    .dataframe thead th {\n",
       "        text-align: right;\n",
       "    }\n",
       "</style>\n",
       "<table border=\"1\" class=\"dataframe\">\n",
       "  <thead>\n",
       "    <tr style=\"text-align: right;\">\n",
       "      <th></th>\n",
       "      <th>Año</th>\n",
       "      <th>Presupuesto</th>\n",
       "      <th>variacion</th>\n",
       "    </tr>\n",
       "  </thead>\n",
       "  <tbody>\n",
       "    <tr>\n",
       "      <th>0</th>\n",
       "      <td>2010</td>\n",
       "      <td>395.724.631.421</td>\n",
       "      <td>N/a</td>\n",
       "    </tr>\n",
       "    <tr>\n",
       "      <th>1</th>\n",
       "      <td>2011</td>\n",
       "      <td>992.300.554.398</td>\n",
       "      <td>596.575.922.977</td>\n",
       "    </tr>\n",
       "    <tr>\n",
       "      <th>2</th>\n",
       "      <td>2012</td>\n",
       "      <td>1.363.740.084.642</td>\n",
       "      <td>371.439.530.244</td>\n",
       "    </tr>\n",
       "    <tr>\n",
       "      <th>3</th>\n",
       "      <td>2013</td>\n",
       "      <td>1.598.184.320.986</td>\n",
       "      <td>234.444.236.344</td>\n",
       "    </tr>\n",
       "    <tr>\n",
       "      <th>4</th>\n",
       "      <td>2014</td>\n",
       "      <td>1.485.506.431.230</td>\n",
       "      <td>-112.677.889.756</td>\n",
       "    </tr>\n",
       "    <tr>\n",
       "      <th>5</th>\n",
       "      <td>2015</td>\n",
       "      <td>1.401.559.999.417</td>\n",
       "      <td>-83.946.431.813</td>\n",
       "    </tr>\n",
       "    <tr>\n",
       "      <th>6</th>\n",
       "      <td>2016</td>\n",
       "      <td>1.250.496.109.800</td>\n",
       "      <td>-151.063.889.617</td>\n",
       "    </tr>\n",
       "    <tr>\n",
       "      <th>7</th>\n",
       "      <td>2017</td>\n",
       "      <td>1.341.498.933.898</td>\n",
       "      <td>91.002.824.098</td>\n",
       "    </tr>\n",
       "    <tr>\n",
       "      <th>8</th>\n",
       "      <td>2018</td>\n",
       "      <td>1.298.223.013.282</td>\n",
       "      <td>-43.275.920.616</td>\n",
       "    </tr>\n",
       "    <tr>\n",
       "      <th>9</th>\n",
       "      <td>2019</td>\n",
       "      <td>1.448.423.658.869</td>\n",
       "      <td>150.200.645.587</td>\n",
       "    </tr>\n",
       "    <tr>\n",
       "      <th>10</th>\n",
       "      <td>2020</td>\n",
       "      <td>1.173.179.067.149</td>\n",
       "      <td>-275.244.591.720</td>\n",
       "    </tr>\n",
       "    <tr>\n",
       "      <th>11</th>\n",
       "      <td>2021</td>\n",
       "      <td>1.606.125.761.922</td>\n",
       "      <td>432.946.694.773</td>\n",
       "    </tr>\n",
       "    <tr>\n",
       "      <th>12</th>\n",
       "      <td>2022</td>\n",
       "      <td>1.580.566.361.960</td>\n",
       "      <td>-25.559.399.962</td>\n",
       "    </tr>\n",
       "    <tr>\n",
       "      <th>13</th>\n",
       "      <td>2023</td>\n",
       "      <td>1.832.500.503.599</td>\n",
       "      <td>251.934.141.639</td>\n",
       "    </tr>\n",
       "  </tbody>\n",
       "</table>\n",
       "</div>"
      ],
      "text/plain": [
       "     Año        Presupuesto         variacion\n",
       "0   2010    395.724.631.421               N/a\n",
       "1   2011    992.300.554.398   596.575.922.977\n",
       "2   2012  1.363.740.084.642   371.439.530.244\n",
       "3   2013  1.598.184.320.986   234.444.236.344\n",
       "4   2014  1.485.506.431.230  -112.677.889.756\n",
       "5   2015  1.401.559.999.417   -83.946.431.813\n",
       "6   2016  1.250.496.109.800  -151.063.889.617\n",
       "7   2017  1.341.498.933.898    91.002.824.098\n",
       "8   2018  1.298.223.013.282   -43.275.920.616\n",
       "9   2019  1.448.423.658.869   150.200.645.587\n",
       "10  2020  1.173.179.067.149  -275.244.591.720\n",
       "11  2021  1.606.125.761.922   432.946.694.773\n",
       "12  2022  1.580.566.361.960   -25.559.399.962\n",
       "13  2023  1.832.500.503.599   251.934.141.639"
      ]
     },
     "execution_count": 8,
     "metadata": {},
     "output_type": "execute_result"
    }
   ],
   "source": [
    "pagos_df['FECHAPAGO'] = pd.to_datetime(pagos_df['FECHAPAGO'])\n",
    "pagos_df['ANIO'] = pagos_df['FECHAPAGO'].dt.year\n",
    "\n",
    "presupuesto_anual = pagos_df.groupby('ANIO')['TOTALPAGADO'].sum()\n",
    "\n",
    "#Convertimos esto a un dataframe\n",
    "\n",
    "presupuesto = {}\n",
    "\n",
    "presupuesto['Año'] = presupuesto_anual.index\n",
    "presupuesto['Presupuesto'] = presupuesto_anual.values\n",
    "\n",
    "presupuesto = pd.DataFrame(presupuesto)\n",
    "\n",
    "#Datos de la inflación son sacados de https://www.datosmundial.com/america/chile/inflacion.php\n",
    "\n",
    "inflacion_dolares = {\n",
    "    2023: 1.00,  # Valor base\n",
    "    2022: 800 / 870,  # Valor dólar 2023 / Valor dólar 2022\n",
    "    2021: 800 / 825.18,  # Valor dólar 2023 / Valor dólar 2021\n",
    "    2020: 800 / 780.52,  # Valor dólar 2023 / Valor dólar 2020\n",
    "    2019: 800 / 670.62,  # Valor dólar 2023 / Valor dólar 2019\n",
    "    2018: 800 / 630.22,  # Valor dólar 2023 / Valor dólar 2018\n",
    "    2017: 800 / 635.73,  # Valor dólar 2023 / Valor dólar 2017\n",
    "    2016: 800 / 670.28,  # Valor dólar 2023 / Valor dólar 2016\n",
    "    2015: 800 / 635.14,  # Valor dólar 2023 / Valor dólar 2015\n",
    "    2014: 800 / 528.90,  # Valor dólar 2023 / Valor dólar 2014\n",
    "    2013: 800 / 469.82,  # Valor dólar 2023 / Valor dólar 2013\n",
    "    2012: 800 / 467.18,  # Valor dólar 2023 / Valor dólar 2012\n",
    "    2011: 800 / 468.25,  # Valor dólar 2023 / Valor dólar 2011\n",
    "    2010: 800 / 502.45   # Valor dólar 2023 / Valor dólar 2010\n",
    "}\n",
    "\n",
    "#aquí básicamente convierto todos los presupuestos de años anteriores a lo que valdría ese presupuesto hoy \n",
    "\n",
    "presupuesto= presupuesto.drop(14)\n",
    "\n",
    "def poner_puntos(numero): # le doy los puntitos bonitos\n",
    "    return \"{:,}\".format(numero).replace(\",\", \".\")\n",
    "\n",
    "presupuesto['variacion'] = 'N/a'\n",
    "\n",
    "for x in range(len(presupuesto)):\n",
    "\n",
    "    numero = round(presupuesto.loc[x, 'Presupuesto'] * inflacion_dolares[int(presupuesto.loc[x, 'Año'])])\n",
    "\n",
    "    presupuesto.loc[x, 'Presupuesto'] = numero\n",
    "\n",
    "    if x > 0:\n",
    "\n",
    "        presupuesto.loc[x, 'variacion'] = poner_puntos(round(numero - presupuesto.loc[x - 1, 'Presupuesto']))\n",
    "\n",
    "    else:\n",
    "\n",
    "        presupuesto.loc[x, 'variacion'] = 'N/a'\n",
    "\n",
    "presupuesto['Presupuesto'] = presupuesto['Presupuesto'].apply(poner_puntos)\n",
    "\n",
    "presupuesto"
   ]
  },
  {
   "cell_type": "markdown",
   "metadata": {},
   "source": [
    "Empresa más contratada"
   ]
  },
  {
   "cell_type": "code",
   "execution_count": 10,
   "metadata": {},
   "outputs": [
    {
     "name": "stdout",
     "output_type": "stream",
     "text": [
      "Empresa más contratada: CONST. DE PAVIMENTOS ASFALTICOS BITUMIX S.A.\n"
     ]
    }
   ],
   "source": [
    "empresa_mas_contratada = pagos_df['NOMBREADJUDICADO'].value_counts().idxmax()\n",
    "\n",
    "print(f\"Empresa más contratada: {empresa_mas_contratada}\")"
   ]
  },
  {
   "cell_type": "markdown",
   "metadata": {},
   "source": [
    "Promedio de atraso de las obras publicas"
   ]
  },
  {
   "cell_type": "code",
   "execution_count": 11,
   "metadata": {},
   "outputs": [
    {
     "name": "stdout",
     "output_type": "stream",
     "text": [
      "El promedio de atraso de las obras publicas es de 102.77 diasa\n"
     ]
    }
   ],
   "source": [
    "promedio_atraso = contratos_df[contratos_df.ATRASO > 0]['ATRASO'].mean()\n",
    "print(f'El promedio de atraso de las obras publicas es de {round(promedio_atraso, 2)} diasa')"
   ]
  }
 ],
 "metadata": {
  "kernelspec": {
   "display_name": "icd",
   "language": "python",
   "name": "python3"
  },
  "language_info": {
   "codemirror_mode": {
    "name": "ipython",
    "version": 3
   },
   "file_extension": ".py",
   "mimetype": "text/x-python",
   "name": "python",
   "nbconvert_exporter": "python",
   "pygments_lexer": "ipython3",
   "version": "3.12.4"
  }
 },
 "nbformat": 4,
 "nbformat_minor": 2
}
