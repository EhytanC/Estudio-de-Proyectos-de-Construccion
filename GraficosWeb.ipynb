{
 "cells": [
  {
   "cell_type": "code",
   "execution_count": 19,
   "metadata": {},
   "outputs": [],
   "source": [
    "import pandas as pd\n",
    "import seaborn as sns\n",
    "import matplotlib.pyplot as plt\n",
    "from Dataframes import contratos_df"
   ]
  },
  {
   "cell_type": "code",
   "execution_count": 20,
   "metadata": {},
   "outputs": [
    {
     "data": {
      "text/html": [
       "<div>\n",
       "<style scoped>\n",
       "    .dataframe tbody tr th:only-of-type {\n",
       "        vertical-align: middle;\n",
       "    }\n",
       "\n",
       "    .dataframe tbody tr th {\n",
       "        vertical-align: top;\n",
       "    }\n",
       "\n",
       "    .dataframe thead th {\n",
       "        text-align: right;\n",
       "    }\n",
       "</style>\n",
       "<table border=\"1\" class=\"dataframe\">\n",
       "  <thead>\n",
       "    <tr style=\"text-align: right;\">\n",
       "      <th></th>\n",
       "      <th>REGIONGEOGRAFICA</th>\n",
       "      <th>CODIGOCONTRATO</th>\n",
       "      <th>CODIGOBIP</th>\n",
       "      <th>NOMBRECONTRATO</th>\n",
       "      <th>SERVICIO</th>\n",
       "      <th>CENTROGESTION</th>\n",
       "      <th>TIPOGASTO</th>\n",
       "      <th>ESTADO</th>\n",
       "      <th>FECHAINICIO</th>\n",
       "      <th>FECHATERMINO</th>\n",
       "      <th>FECHATERMINOORIGINAL</th>\n",
       "      <th>MONTOINICIAL</th>\n",
       "      <th>MONTOVIGENTE</th>\n",
       "      <th>IDCHILECOMPRA</th>\n",
       "      <th>RUTADJUDICADO</th>\n",
       "      <th>NOMBREADJUDICADO</th>\n",
       "      <th>MODALIDADLICITACION</th>\n",
       "      <th>MODALIDADCONTRATACION</th>\n",
       "      <th>TIPOREAJUSTE</th>\n",
       "      <th>TIPO_PERFIL</th>\n",
       "      <th>AVANCEFINANCIERO</th>\n",
       "      <th>MANDANTE</th>\n",
       "      <th>MERGERUT</th>\n",
       "      <th>ATRASO</th>\n",
       "    </tr>\n",
       "  </thead>\n",
       "  <tbody>\n",
       "    <tr>\n",
       "      <th>0</th>\n",
       "      <td>Tarapacá</td>\n",
       "      <td>15096</td>\n",
       "      <td>NaN</td>\n",
       "      <td>Reparación Ss.Hh. Edificio M.O.P.</td>\n",
       "      <td>ARQUITECTURA</td>\n",
       "      <td>Dirección de Arquitectura  I Region</td>\n",
       "      <td>Obra</td>\n",
       "      <td>En Ejecución</td>\n",
       "      <td>2013-07-17</td>\n",
       "      <td>2013-07-27</td>\n",
       "      <td>2013-07-27</td>\n",
       "      <td>59000</td>\n",
       "      <td>59000</td>\n",
       "      <td>NaN</td>\n",
       "      <td>7957091</td>\n",
       "      <td>HECTOR HERNAN MOREIRA SCIARAFFIA.</td>\n",
       "      <td>Trato directo</td>\n",
       "      <td>PRECIOS UNITARIOS</td>\n",
       "      <td>Sin Reajuste</td>\n",
       "      <td>NaN</td>\n",
       "      <td>0.0</td>\n",
       "      <td>Externos</td>\n",
       "      <td>7957091</td>\n",
       "      <td>Con</td>\n",
       "    </tr>\n",
       "    <tr>\n",
       "      <th>1</th>\n",
       "      <td>Atacama</td>\n",
       "      <td>15239</td>\n",
       "      <td>NaN</td>\n",
       "      <td>Conservación Repar Edificios M.O.P. 1999</td>\n",
       "      <td>ARQUITECTURA</td>\n",
       "      <td>Dirección de Arquitectura  III Region</td>\n",
       "      <td>Obra</td>\n",
       "      <td>Terminado</td>\n",
       "      <td>2010-04-15</td>\n",
       "      <td>2010-04-30</td>\n",
       "      <td>2010-04-30</td>\n",
       "      <td>2593916</td>\n",
       "      <td>2593916</td>\n",
       "      <td>NaN</td>\n",
       "      <td>7288982</td>\n",
       "      <td>JORGE ALEXIS CANTO VERGARA</td>\n",
       "      <td>Propuesta privada</td>\n",
       "      <td>PRECIOS UNITARIOS</td>\n",
       "      <td>Sin Reajuste</td>\n",
       "      <td>NaN</td>\n",
       "      <td>0.0</td>\n",
       "      <td>Externos</td>\n",
       "      <td>7288982</td>\n",
       "      <td>Con</td>\n",
       "    </tr>\n",
       "    <tr>\n",
       "      <th>2</th>\n",
       "      <td>Aysén</td>\n",
       "      <td>91114</td>\n",
       "      <td>30237372-0</td>\n",
       "      <td>ENCAUZAMIENTO MAQUINARIA PESADA RÍO EL SILENCI...</td>\n",
       "      <td>OBRAS HIDRÁULICAS</td>\n",
       "      <td>Dirección de Obras Hidráulicas  XI Region</td>\n",
       "      <td>Obra</td>\n",
       "      <td>Terminado</td>\n",
       "      <td>2015-12-03</td>\n",
       "      <td>2015-12-23</td>\n",
       "      <td>2015-12-23</td>\n",
       "      <td>18831750</td>\n",
       "      <td>18831750</td>\n",
       "      <td>1149-36-LE15</td>\n",
       "      <td>9176977</td>\n",
       "      <td>LUIS PATRICIO ROA MUNOZ</td>\n",
       "      <td>Propuesta publica</td>\n",
       "      <td>SUMA ALZADA</td>\n",
       "      <td>Sin Reajuste</td>\n",
       "      <td>Contratista O. Menores</td>\n",
       "      <td>1.0</td>\n",
       "      <td>Internos</td>\n",
       "      <td>9176977</td>\n",
       "      <td>Con</td>\n",
       "    </tr>\n",
       "    <tr>\n",
       "      <th>3</th>\n",
       "      <td>Aysén</td>\n",
       "      <td>91131</td>\n",
       "      <td>30101318-0</td>\n",
       "      <td>CONSERVACION RED PRIMARIA DE AGUAS LLUVIAS PUE...</td>\n",
       "      <td>OBRAS HIDRÁULICAS</td>\n",
       "      <td>Dirección de Obras Hidráulicas  XI Region</td>\n",
       "      <td>Obra</td>\n",
       "      <td>Terminado</td>\n",
       "      <td>2013-10-10</td>\n",
       "      <td>2013-12-29</td>\n",
       "      <td>2013-12-29</td>\n",
       "      <td>38672320</td>\n",
       "      <td>44159338</td>\n",
       "      <td>1149-26-LE13</td>\n",
       "      <td>9176977</td>\n",
       "      <td>LUIS PATRICIO ROA MUNOZ</td>\n",
       "      <td>Propuesta publica</td>\n",
       "      <td>SUMA ALZADA</td>\n",
       "      <td>Sin Reajuste</td>\n",
       "      <td>Contratista O. Menores</td>\n",
       "      <td>1.0</td>\n",
       "      <td>Internos</td>\n",
       "      <td>9176977</td>\n",
       "      <td>Con</td>\n",
       "    </tr>\n",
       "    <tr>\n",
       "      <th>4</th>\n",
       "      <td>Aysén</td>\n",
       "      <td>102609</td>\n",
       "      <td>30101318-0</td>\n",
       "      <td>CONSERVACIÓN RED PRIMARIA DE AGUAS LLUVIAS, PU...</td>\n",
       "      <td>OBRAS HIDRÁULICAS</td>\n",
       "      <td>Dirección de Obras Hidráulicas  XI Region</td>\n",
       "      <td>Obra</td>\n",
       "      <td>Terminado</td>\n",
       "      <td>2013-05-31</td>\n",
       "      <td>2013-12-21</td>\n",
       "      <td>2013-11-27</td>\n",
       "      <td>232472551</td>\n",
       "      <td>243663811</td>\n",
       "      <td>1149-3-LP13</td>\n",
       "      <td>76058293</td>\n",
       "      <td>SOCIEDAD FINLEZ Y RUIZ LTDA.</td>\n",
       "      <td>Propuesta publica</td>\n",
       "      <td>SUMA ALZADA</td>\n",
       "      <td>Sin Reajuste</td>\n",
       "      <td>Contratista O. Menores</td>\n",
       "      <td>1.0</td>\n",
       "      <td>Internos</td>\n",
       "      <td>76058293</td>\n",
       "      <td>Sin</td>\n",
       "    </tr>\n",
       "  </tbody>\n",
       "</table>\n",
       "</div>"
      ],
      "text/plain": [
       "  REGIONGEOGRAFICA  CODIGOCONTRATO   CODIGOBIP  ...  MANDANTE  MERGERUT ATRASO\n",
       "0         Tarapacá           15096         NaN  ...  Externos   7957091    Con\n",
       "1          Atacama           15239         NaN  ...  Externos   7288982    Con\n",
       "2            Aysén           91114  30237372-0  ...  Internos   9176977    Con\n",
       "3            Aysén           91131  30101318-0  ...  Internos   9176977    Con\n",
       "4            Aysén          102609  30101318-0  ...  Internos  76058293    Sin\n",
       "\n",
       "[5 rows x 24 columns]"
      ]
     },
     "execution_count": 20,
     "metadata": {},
     "output_type": "execute_result"
    }
   ],
   "source": [
    "contratos_df\n",
    "contratos_df.head()"
   ]
  },
  {
   "cell_type": "code",
   "execution_count": 21,
   "metadata": {},
   "outputs": [
    {
     "name": "stderr",
     "output_type": "stream",
     "text": [
      "C:\\Users\\IMC\\AppData\\Local\\Temp\\ipykernel_14700\\1276817484.py:2: SettingWithCopyWarning: \n",
      "A value is trying to be set on a copy of a slice from a DataFrame.\n",
      "Try using .loc[row_indexer,col_indexer] = value instead\n",
      "\n",
      "See the caveats in the documentation: https://pandas.pydata.org/pandas-docs/stable/user_guide/indexing.html#returning-a-view-versus-a-copy\n",
      "  contratos_df['ATRASO'] = (contratos_df['FECHATERMINO'] - contratos_df['FECHATERMINOORIGINAL']).dt.days\n",
      "C:\\Users\\IMC\\AppData\\Local\\Temp\\ipykernel_14700\\1276817484.py:3: SettingWithCopyWarning: \n",
      "A value is trying to be set on a copy of a slice from a DataFrame.\n",
      "Try using .loc[row_indexer,col_indexer] = value instead\n",
      "\n",
      "See the caveats in the documentation: https://pandas.pydata.org/pandas-docs/stable/user_guide/indexing.html#returning-a-view-versus-a-copy\n",
      "  contratos_df['ATRASO'] = contratos_df['ATRASO'].map(lambda x: 'Atrasado' if x > 0 else 'Adelantado/A tiempo').astype('category')\n"
     ]
    }
   ],
   "source": [
    "contratos_df = contratos_df[contratos_df['ESTADO'] == 'Terminado']\n",
    "contratos_df['ATRASO'] = (contratos_df['FECHATERMINO'] - contratos_df['FECHATERMINOORIGINAL']).dt.days\n",
    "contratos_df['ATRASO'] = contratos_df['ATRASO'].map(lambda x: 'Atrasado' if x > 0 else 'Adelantado/A tiempo').astype('category')"
   ]
  },
  {
   "cell_type": "code",
   "execution_count": 22,
   "metadata": {},
   "outputs": [
    {
     "data": {
      "text/plain": [
       "1        Adelantado/A tiempo\n",
       "2        Adelantado/A tiempo\n",
       "3        Adelantado/A tiempo\n",
       "4                   Atrasado\n",
       "5        Adelantado/A tiempo\n",
       "                ...         \n",
       "18234    Adelantado/A tiempo\n",
       "18236    Adelantado/A tiempo\n",
       "18238    Adelantado/A tiempo\n",
       "18242    Adelantado/A tiempo\n",
       "18247    Adelantado/A tiempo\n",
       "Name: ATRASO, Length: 15230, dtype: category\n",
       "Categories (2, object): ['Adelantado/A tiempo', 'Atrasado']"
      ]
     },
     "execution_count": 22,
     "metadata": {},
     "output_type": "execute_result"
    }
   ],
   "source": [
    "contratos_df['ATRASO']"
   ]
  },
  {
   "cell_type": "code",
   "execution_count": 33,
   "metadata": {},
   "outputs": [
    {
     "data": {
      "text/plain": [
       "Text(0.5, 0, 'Cateogria del proyecto')"
      ]
     },
     "execution_count": 33,
     "metadata": {},
     "output_type": "execute_result"
    },
    {
     "data": {
      "image/png": "[encoded data removed]",
      "text/plain": [
       "<Figure size 640x480 with 1 Axes>"
      ]
     },
     "metadata": {},
     "output_type": "display_data"
    }
   ],
   "source": [
    "grafico = sns.countplot(contratos_df, x='ATRASO', hue='ATRASO', stat='count')\n",
    "for p in grafico.patches:\n",
    "    height = p.get_height()\n",
    "    grafico.text(\n",
    "        p.get_x() + p.get_width() / 2,\n",
    "        height + 0.1,\n",
    "        str(int(height)) + f' - {round(height*100/len(contratos_df), 2)}%', \n",
    "        ha='center', \n",
    "        va='bottom',\n",
    "        fontsize=12  \n",
    "    )    \n",
    "plt.title('Cantidad de Contratos')\n",
    "plt.ylabel('Cantidad de proyectos')\n",
    "plt.xlabel('Cateogria del proyecto')"
   ]
  },
  {
   "cell_type": "code",
   "execution_count": null,
   "metadata": {},
   "outputs": [],
   "source": []
  }
 ],
 "metadata": {
  "kernelspec": {
   "display_name": "icd",
   "language": "python",
   "name": "python3"
  },
  "language_info": {
   "codemirror_mode": {
    "name": "ipython",
    "version": 3
   },
   "file_extension": ".py",
   "mimetype": "text/x-python",
   "name": "python",
   "nbconvert_exporter": "python",
   "pygments_lexer": "ipython3",
   "version": "3.12.4"
  }
 },
 "nbformat": 4,
 "nbformat_minor": 2
}
