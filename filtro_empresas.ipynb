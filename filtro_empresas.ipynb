{
 "cells": [
  {
   "cell_type": "code",
   "execution_count": 1,
   "metadata": {},
   "outputs": [],
   "source": [
    "import pandas as pd\n",
    "import os\n",
    "from functools import reduce"
   ]
  },
  {
   "cell_type": "code",
   "execution_count": 2,
   "metadata": {},
   "outputs": [],
   "source": [
    "# Es un dataframe con todas las sociedades concatenadas, no se chingan pc por siaca\n",
    "sociedades = reduce(lambda x,y: pd.concat((x,y)),\n",
    "       map(lambda x: pd.read_csv(os.path.join('data', x), sep=';'),\n",
    "    filter(lambda x: '20' in x,\n",
    "        os.listdir('data'))))\n",
    "# Dataframe de los contratos\n",
    "contratos = pd.read_csv(os.path.join('data', 'conratos.csv'))"
   ]
  },
  {
   "cell_type": "code",
   "execution_count": 3,
   "metadata": {},
   "outputs": [
    {
     "data": {
      "text/html": [
       "<div>\n",
       "<style scoped>\n",
       "    .dataframe tbody tr th:only-of-type {\n",
       "        vertical-align: middle;\n",
       "    }\n",
       "\n",
       "    .dataframe tbody tr th {\n",
       "        vertical-align: top;\n",
       "    }\n",
       "\n",
       "    .dataframe thead th {\n",
       "        text-align: right;\n",
       "    }\n",
       "</style>\n",
       "<table border=\"1\" class=\"dataframe\">\n",
       "  <thead>\n",
       "    <tr style=\"text-align: right;\">\n",
       "      <th></th>\n",
       "      <th>ID</th>\n",
       "      <th>RUT</th>\n",
       "      <th>Razon Social</th>\n",
       "      <th>Fecha de actuacion (1era firma)</th>\n",
       "      <th>Fecha de registro (ultima firma)</th>\n",
       "      <th>Fecha de aprobacion x SII</th>\n",
       "      <th>Anio</th>\n",
       "      <th>Mes</th>\n",
       "      <th>Comuna Tributaria</th>\n",
       "      <th>Region Tributaria</th>\n",
       "      <th>Codigo de sociedad</th>\n",
       "      <th>Tipo de actuacion</th>\n",
       "      <th>Capital</th>\n",
       "      <th>Comuna Social</th>\n",
       "      <th>Region Social</th>\n",
       "    </tr>\n",
       "  </thead>\n",
       "  <tbody>\n",
       "    <tr>\n",
       "      <th>54543</th>\n",
       "      <td>3157904</td>\n",
       "      <td>77353493-4</td>\n",
       "      <td>COMERCIAL E INMOBILIARIA  B &amp; R SpA</td>\n",
       "      <td>26-04-2021</td>\n",
       "      <td>26-04-2021</td>\n",
       "      <td>26-04-2021</td>\n",
       "      <td>2021</td>\n",
       "      <td>Abril</td>\n",
       "      <td>CHIGUAYANTE</td>\n",
       "      <td>8</td>\n",
       "      <td>SpA</td>\n",
       "      <td>CONSTITUCIÓN</td>\n",
       "      <td>2000000</td>\n",
       "      <td>CHIGUAYANTE</td>\n",
       "      <td>8.0</td>\n",
       "    </tr>\n",
       "  </tbody>\n",
       "</table>\n",
       "</div>"
      ],
      "text/plain": [
       "            ID         RUT                         Razon Social  \\\n",
       "54543  3157904  77353493-4  COMERCIAL E INMOBILIARIA  B & R SpA   \n",
       "\n",
       "      Fecha de actuacion (1era firma) Fecha de registro (ultima firma)  \\\n",
       "54543                      26-04-2021                       26-04-2021   \n",
       "\n",
       "      Fecha de aprobacion x SII  Anio    Mes Comuna Tributaria  \\\n",
       "54543                26-04-2021  2021  Abril       CHIGUAYANTE   \n",
       "\n",
       "       Region Tributaria Codigo de sociedad Tipo de actuacion  Capital  \\\n",
       "54543                  8                SpA      CONSTITUCIÓN  2000000   \n",
       "\n",
       "      Comuna Social  Region Social  \n",
       "54543   CHIGUAYANTE            8.0  "
      ]
     },
     "execution_count": 3,
     "metadata": {},
     "output_type": "execute_result"
    }
   ],
   "source": [
    "# Aqui busco todas empresas que tengan asociada una 'RUTADJUDICADO', en base a su 'ID'\n",
    "# significando que se muestran todas las emrpesases que han hecho un contrato con el estado\n",
    "sociedades[sociedades['ID'].isin(contratos['RUTADJUDICADO'])]\n",
    "# En conclusion nuestra base de datos de empresas solo tiene estas empresas de contru\n",
    "# A no ser de que Rutajudiacdo no sea el id de la empresa pero ahi cambien cual es la columna\n",
    "# que tiene asocidada una empresa pa verlo."
   ]
  }
 ],
 "metadata": {
  "kernelspec": {
   "display_name": "icd",
   "language": "python",
   "name": "python3"
  },
  "language_info": {
   "codemirror_mode": {
    "name": "ipython",
    "version": 3
   },
   "file_extension": ".py",
   "mimetype": "text/x-python",
   "name": "python",
   "nbconvert_exporter": "python",
   "pygments_lexer": "ipython3",
   "version": "3.12.4"
  }
 },
 "nbformat": 4,
 "nbformat_minor": 2
}
